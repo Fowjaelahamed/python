{
 "cells": [
  {
   "cell_type": "markdown",
   "metadata": {},
   "source": [
    "# 1. Write a Python program to change the position of every n-th value with the (n+1) th in a list.\n",
    "Sample list: [0,1,2,3,4,5]\n",
    "Expected Output: [1, 0, 3, 2, 5, 4]"
   ]
  },
  {
   "cell_type": "code",
   "execution_count": 17,
   "metadata": {},
   "outputs": [
    {
     "name": "stdout",
     "output_type": "stream",
     "text": [
      "[1, 0, 3, 2, 5, 4]\n"
     ]
    }
   ],
   "source": [
    "list1 = [0,1,2,3,4,5]\n",
    "for i in range(0,len(list1)-1,2):\n",
    "    temp = list1[i]\n",
    "    list1[i] = list1[i+1]\n",
    "    list1[i+1] = temp\n",
    "print(list1)"
   ]
  },
  {
   "cell_type": "markdown",
   "metadata": {},
   "source": [
    "# 2. Write a Python program to remove duplicates from a list of lists. \n",
    "Sample list: [[10, 20], [40], [30, 56, 25], [10, 20], [33], [40]]\n",
    "New List: [[10, 20], [30, 56, 25], [33], [40]]"
   ]
  },
  {
   "cell_type": "code",
   "execution_count": 18,
   "metadata": {},
   "outputs": [
    {
     "name": "stdout",
     "output_type": "stream",
     "text": [
      "[[10, 20], [40], [30, 56, 25], [33]]\n"
     ]
    }
   ],
   "source": [
    "list2 =  [[10, 20], [40], [30, 56, 25], [10, 20], [33], [40]]\n",
    "list3 = []\n",
    "for sublist in list2:\n",
    "    if sublist not in list3:\n",
    "        list3.append(sublist)\n",
    "print(list3)"
   ]
  },
  {
   "cell_type": "markdown",
   "metadata": {},
   "source": [
    "# 3. Triangle - Left Justified. Draw right angled triangle of given height\n",
    "Sample input: 4\n",
    "Sample output:\n",
    "*\n",
    "**\n",
    "***\n",
    "****"
   ]
  },
  {
   "cell_type": "code",
   "execution_count": 19,
   "metadata": {},
   "outputs": [
    {
     "name": "stdout",
     "output_type": "stream",
     "text": [
      "Enter :4\n",
      "*\n",
      "**\n",
      "***\n",
      "****\n"
     ]
    }
   ],
   "source": [
    "a = int(input(\"Enter :\"))\n",
    "for i in range (a):\n",
    "    for j in range(i+1):\n",
    "        print(\"*\",end=\"\")\n",
    "    print()"
   ]
  },
  {
   "cell_type": "markdown",
   "metadata": {},
   "source": [
    "# 4. Write a Python program to check a string represent an integer or not.  Expected Output:\n",
    "Input a string: Python\n",
    "The string is not an integer."
   ]
  },
  {
   "cell_type": "code",
   "execution_count": 16,
   "metadata": {},
   "outputs": [
    {
     "name": "stdout",
     "output_type": "stream",
     "text": [
      "python\n",
      "The string is not an integer.\n"
     ]
    }
   ],
   "source": [
    "a = input()\n",
    "\n",
    "try:\n",
    "    int(a)\n",
    "    print(\"The string is an integer.\")\n",
    "except:\n",
    "    print(\"The string is not an integer.\")"
   ]
  },
  {
   "cell_type": "markdown",
   "metadata": {},
   "source": [
    "# 5. Write a Python function that checks whether a passed string is palindrome or not.\n",
    "Note: A palindrome is a word, phrase, or sequence that reads the same backward as forward, e.g., madam or\n",
    "nurses run."
   ]
  },
  {
   "cell_type": "code",
   "execution_count": 2,
   "metadata": {},
   "outputs": [
    {
     "name": "stdout",
     "output_type": "stream",
     "text": [
      "123\n",
      "this is not palindrome\n"
     ]
    }
   ],
   "source": [
    "def palindrome(l):\n",
    "    m = l[::-1]\n",
    "    if l == m:\n",
    "        return True\n",
    "a = input()\n",
    "if palindrome(a) == True:\n",
    "    print(\"this is palindrome!\")\n",
    "else:\n",
    "    print(\"this is not palindrome\")"
   ]
  },
  {
   "cell_type": "code",
   "execution_count": null,
   "metadata": {},
   "outputs": [],
   "source": []
  }
 ],
 "metadata": {
  "kernelspec": {
   "display_name": "Python 3",
   "language": "python",
   "name": "python3"
  },
  "language_info": {
   "codemirror_mode": {
    "name": "ipython",
    "version": 3
   },
   "file_extension": ".py",
   "mimetype": "text/x-python",
   "name": "python",
   "nbconvert_exporter": "python",
   "pygments_lexer": "ipython3",
   "version": "3.7.1"
  }
 },
 "nbformat": 4,
 "nbformat_minor": 2
}
