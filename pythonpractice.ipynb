{
  "nbformat": 4,
  "nbformat_minor": 0,
  "metadata": {
    "colab": {
      "name": "pythonpractice.ipynb",
      "version": "0.3.2",
      "provenance": [],
      "include_colab_link": true
    },
    "kernelspec": {
      "name": "python3",
      "display_name": "Python 3"
    }
  },
  "cells": [
    {
      "cell_type": "markdown",
      "metadata": {
        "id": "view-in-github",
        "colab_type": "text"
      },
      "source": [
        "<a href=\"https://colab.research.google.com/github/Fowjaelahamed/python-method/blob/master/pythonpractice.ipynb\" target=\"_parent\"><img src=\"https://colab.research.google.com/assets/colab-badge.svg\" alt=\"Open In Colab\"/></a>"
      ]
    },
    {
      "metadata": {
        "id": "ygcYNswKImqj",
        "colab_type": "code",
        "colab": {
          "base_uri": "https://localhost:8080/",
          "height": 35
        },
        "outputId": "52c9b7f8-4033-4ea5-f016-e5c3e033f555"
      },
      "cell_type": "code",
      "source": [
        "x = 6\n",
        "print(x)"
      ],
      "execution_count": 1,
      "outputs": [
        {
          "output_type": "stream",
          "text": [
            "6\n"
          ],
          "name": "stdout"
        }
      ]
    },
    {
      "metadata": {
        "id": "mdVMlj6RI1ts",
        "colab_type": "code",
        "colab": {
          "base_uri": "https://localhost:8080/",
          "height": 35
        },
        "outputId": "f6596d7b-0eab-41ff-9657-3b4a17cf27f1"
      },
      "cell_type": "code",
      "source": [
        "x = \"hello python\"\n",
        "print(x)"
      ],
      "execution_count": 2,
      "outputs": [
        {
          "output_type": "stream",
          "text": [
            "hello python\n"
          ],
          "name": "stdout"
        }
      ]
    },
    {
      "metadata": {
        "id": "OJYoluBLI-Cc",
        "colab_type": "code",
        "colab": {
          "base_uri": "https://localhost:8080/",
          "height": 35
        },
        "outputId": "5ebd4199-8041-493b-ebe2-89c05a7e351a"
      },
      "cell_type": "code",
      "source": [
        "a = 10\n",
        "b = 3\n",
        "c = a + b\n",
        "print(c)"
      ],
      "execution_count": 3,
      "outputs": [
        {
          "output_type": "stream",
          "text": [
            "13\n"
          ],
          "name": "stdout"
        }
      ]
    },
    {
      "metadata": {
        "id": "-atuZOdDJopW",
        "colab_type": "code",
        "colab": {
          "base_uri": "https://localhost:8080/",
          "height": 35
        },
        "outputId": "996b33f1-8621-4bbe-ad37-ab2c9b3885ef"
      },
      "cell_type": "code",
      "source": [
        "x = 6\n",
        "print(type(x))"
      ],
      "execution_count": 5,
      "outputs": [
        {
          "output_type": "stream",
          "text": [
            "<class 'int'>\n"
          ],
          "name": "stdout"
        }
      ]
    },
    {
      "metadata": {
        "id": "N_wQprEpJuiF",
        "colab_type": "code",
        "colab": {
          "base_uri": "https://localhost:8080/",
          "height": 35
        },
        "outputId": "9ef37b23-788a-4244-db62-44470617e9bb"
      },
      "cell_type": "code",
      "source": [
        "x = 6.0\n",
        "print(type(x))"
      ],
      "execution_count": 6,
      "outputs": [
        {
          "output_type": "stream",
          "text": [
            "<class 'float'>\n"
          ],
          "name": "stdout"
        }
      ]
    },
    {
      "metadata": {
        "id": "FdHTCYXdJyZl",
        "colab_type": "code",
        "colab": {
          "base_uri": "https://localhost:8080/",
          "height": 35
        },
        "outputId": "b799bf82-2f04-4555-d178-c561d21c989c"
      },
      "cell_type": "code",
      "source": [
        "x = \"5\"\n",
        "print(type(x))"
      ],
      "execution_count": 7,
      "outputs": [
        {
          "output_type": "stream",
          "text": [
            "<class 'str'>\n"
          ],
          "name": "stdout"
        }
      ]
    },
    {
      "metadata": {
        "id": "vDL-ivmRJ4_p",
        "colab_type": "code",
        "colab": {
          "base_uri": "https://localhost:8080/",
          "height": 35
        },
        "outputId": "27a2dcbc-a051-4fec-e1d8-d9b54c4e3b65"
      },
      "cell_type": "code",
      "source": [
        "x = True\n",
        "print(type(x))"
      ],
      "execution_count": 8,
      "outputs": [
        {
          "output_type": "stream",
          "text": [
            "<class 'bool'>\n"
          ],
          "name": "stdout"
        }
      ]
    },
    {
      "metadata": {
        "id": "ZvBEZurzJ80b",
        "colab_type": "code",
        "colab": {
          "base_uri": "https://localhost:8080/",
          "height": 35
        },
        "outputId": "cc87b973-a04b-4cd2-8e52-0054aed3282c"
      },
      "cell_type": "code",
      "source": [
        "a = 12\n",
        "b = 3\n",
        "print(a + b)"
      ],
      "execution_count": 9,
      "outputs": [
        {
          "output_type": "stream",
          "text": [
            "15\n"
          ],
          "name": "stdout"
        }
      ]
    },
    {
      "metadata": {
        "id": "MXUYQgvEKMWh",
        "colab_type": "code",
        "colab": {
          "base_uri": "https://localhost:8080/",
          "height": 35
        },
        "outputId": "bd2e542e-4dc6-4ce0-e007-b2f95ddc80b4"
      },
      "cell_type": "code",
      "source": [
        "a = \"12\"\n",
        "b = \"3\"\n",
        "print(a + b)"
      ],
      "execution_count": 10,
      "outputs": [
        {
          "output_type": "stream",
          "text": [
            "123\n"
          ],
          "name": "stdout"
        }
      ]
    },
    {
      "metadata": {
        "id": "o6r5_tBQKSep",
        "colab_type": "code",
        "colab": {
          "base_uri": "https://localhost:8080/",
          "height": 52
        },
        "outputId": "2ecbbe25-b312-489e-9a6c-37618b60ae10"
      },
      "cell_type": "code",
      "source": [
        "listn = [4,5,\"hi there\"]\n",
        "print(listn)\n",
        "listn.append(\"miss u\")\n",
        "print(listn)"
      ],
      "execution_count": 12,
      "outputs": [
        {
          "output_type": "stream",
          "text": [
            "[4, 5, 'hi there']\n",
            "[4, 5, 'hi there', 'miss u']\n"
          ],
          "name": "stdout"
        }
      ]
    },
    {
      "metadata": {
        "id": "L3NT4aZCLAtE",
        "colab_type": "code",
        "colab": {
          "base_uri": "https://localhost:8080/",
          "height": 104
        },
        "outputId": "18cc142f-4d59-4a78-b589-fed7fb543a16"
      },
      "cell_type": "code",
      "source": [
        "print (\"listn[0]: \", listn[0])\n",
        "print (\"listn[1]: \", listn[1])\n",
        "print (\"listn[2]: \", listn[2])\n",
        "print (\"listn[-1]: \", listn[-1])\n",
        "print (\"listn[-2]: \", listn[-2])"
      ],
      "execution_count": 13,
      "outputs": [
        {
          "output_type": "stream",
          "text": [
            "listn[0]:  4\n",
            "listn[1]:  5\n",
            "listn[2]:  hi there\n",
            "listn[-1]:  miss u\n",
            "listn[-2]:  hi there\n"
          ],
          "name": "stdout"
        }
      ]
    },
    {
      "metadata": {
        "id": "RY5ibm-eLl97",
        "colab_type": "code",
        "colab": {
          "base_uri": "https://localhost:8080/",
          "height": 87
        },
        "outputId": "14136f34-50d8-40a6-efc1-a7db5dab53e2"
      },
      "cell_type": "code",
      "source": [
        "print (\"listn[:]: \", listn[:])\n",
        "print (\"listn[2:]: \", listn[2:])\n",
        "print (\"listn[1:3]: \", listn[1:3])\n",
        "print (\"listn[:-1]: \", listn[:-1])"
      ],
      "execution_count": 14,
      "outputs": [
        {
          "output_type": "stream",
          "text": [
            "listn[:]:  [4, 5, 'hi there', 'miss u']\n",
            "listn[2:]:  ['hi there', 'miss u']\n",
            "listn[1:3]:  [5, 'hi there']\n",
            "listn[:-1]:  [4, 5, 'hi there']\n"
          ],
          "name": "stdout"
        }
      ]
    },
    {
      "metadata": {
        "id": "ws1HS5O6L9MX",
        "colab_type": "code",
        "colab": {
          "base_uri": "https://localhost:8080/",
          "height": 35
        },
        "outputId": "c10822db-93d3-4b7c-b689-152ee6875c49"
      },
      "cell_type": "code",
      "source": [
        "len(listn)"
      ],
      "execution_count": 15,
      "outputs": [
        {
          "output_type": "execute_result",
          "data": {
            "text/plain": [
              "4"
            ]
          },
          "metadata": {
            "tags": []
          },
          "execution_count": 15
        }
      ]
    },
    {
      "metadata": {
        "id": "F6Yib-17Mk3L",
        "colab_type": "code",
        "colab": {
          "base_uri": "https://localhost:8080/",
          "height": 35
        },
        "outputId": "b98ce220-4ee4-488b-c150-df8e799064e1"
      },
      "cell_type": "code",
      "source": [
        "listn[2] = \"hi\"\n",
        "print(listn)"
      ],
      "execution_count": 16,
      "outputs": [
        {
          "output_type": "stream",
          "text": [
            "[4, 5, 'hi', 'miss u']\n"
          ],
          "name": "stdout"
        }
      ]
    },
    {
      "metadata": {
        "id": "uSO5giMKMz2W",
        "colab_type": "code",
        "colab": {
          "base_uri": "https://localhost:8080/",
          "height": 35
        },
        "outputId": "8ff12a10-5aea-4c68-8622-f9e6d765650c"
      },
      "cell_type": "code",
      "source": [
        "listm = [\"u\",\"dead\"]\n",
        "listo = listn + listm\n",
        "print(listo)"
      ],
      "execution_count": 17,
      "outputs": [
        {
          "output_type": "stream",
          "text": [
            "[4, 5, 'hi', 'miss u', 'u', 'dead']\n"
          ],
          "name": "stdout"
        }
      ]
    },
    {
      "metadata": {
        "id": "q4qDWq1kNEMS",
        "colab_type": "code",
        "colab": {
          "base_uri": "https://localhost:8080/",
          "height": 35
        },
        "outputId": "1ccded8e-6c83-44d2-d4d3-389e599296ec"
      },
      "cell_type": "code",
      "source": [
        "tuplem = (4.5,\"hello miss\")\n",
        "print(tuplem)"
      ],
      "execution_count": 18,
      "outputs": [
        {
          "output_type": "stream",
          "text": [
            "(4.5, 'hello miss')\n"
          ],
          "name": "stdout"
        }
      ]
    },
    {
      "metadata": {
        "id": "FatD8sdCNlow",
        "colab_type": "code",
        "colab": {
          "base_uri": "https://localhost:8080/",
          "height": 35
        },
        "outputId": "b7e1ee97-8c22-4cf9-f14b-56e055ffbdb1"
      },
      "cell_type": "code",
      "source": [
        "tuplem = tuplem + (5,) #u have to use comma after 5\n",
        "print(tuplem)"
      ],
      "execution_count": 20,
      "outputs": [
        {
          "output_type": "stream",
          "text": [
            "(4.5, 'hello miss', 5)\n"
          ],
          "name": "stdout"
        }
      ]
    },
    {
      "metadata": {
        "id": "sRAHLo7hN2CT",
        "colab_type": "code",
        "colab": {
          "base_uri": "https://localhost:8080/",
          "height": 69
        },
        "outputId": "a275dbf9-c69e-44f0-cfdb-bb4379b7e850"
      },
      "cell_type": "code",
      "source": [
        "lu = {\"name\": \"Luffy\",\n",
        "        \"eye_color\": \"Black\"}\n",
        "print (lu)\n",
        "print (lu[\"name\"])\n",
        "print (lu[\"eye_color\"])\n"
      ],
      "execution_count": 22,
      "outputs": [
        {
          "output_type": "stream",
          "text": [
            "{'name': 'Luffy', 'eye_color': 'Black'}\n",
            "Luffy\n",
            "Black\n"
          ],
          "name": "stdout"
        }
      ]
    },
    {
      "metadata": {
        "id": "DsO5tUQtOgkK",
        "colab_type": "code",
        "colab": {
          "base_uri": "https://localhost:8080/",
          "height": 35
        },
        "outputId": "820990cf-e61f-4aae-d247-e3e0e4f67815"
      },
      "cell_type": "code",
      "source": [
        "lu[\"eye_color\"] = \"red\"\n",
        "print(lu)"
      ],
      "execution_count": 23,
      "outputs": [
        {
          "output_type": "stream",
          "text": [
            "{'name': 'Luffy', 'eye_color': 'red'}\n"
          ],
          "name": "stdout"
        }
      ]
    },
    {
      "metadata": {
        "id": "A53ommmBO0GN",
        "colab_type": "code",
        "colab": {
          "base_uri": "https://localhost:8080/",
          "height": 35
        },
        "outputId": "2563e2dc-37b8-48b2-f9f8-d2a5deaddb07"
      },
      "cell_type": "code",
      "source": [
        "lu[\"age\"] = \"20\"\n",
        "print(lu)"
      ],
      "execution_count": 24,
      "outputs": [
        {
          "output_type": "stream",
          "text": [
            "{'name': 'Luffy', 'eye_color': 'red', 'age': '20'}\n"
          ],
          "name": "stdout"
        }
      ]
    },
    {
      "metadata": {
        "id": "zsvJU7SBO_i9",
        "colab_type": "code",
        "colab": {
          "base_uri": "https://localhost:8080/",
          "height": 35
        },
        "outputId": "e604d40a-3106-434e-aebf-daf6f888dd9a"
      },
      "cell_type": "code",
      "source": [
        "print(len(lu))"
      ],
      "execution_count": 25,
      "outputs": [
        {
          "output_type": "stream",
          "text": [
            "3\n"
          ],
          "name": "stdout"
        }
      ]
    },
    {
      "metadata": {
        "id": "YGR7Cj7kPDm4",
        "colab_type": "code",
        "colab": {
          "base_uri": "https://localhost:8080/",
          "height": 35
        },
        "outputId": "e2f1c9f6-b5a8-4103-c383-adee5b9ec711"
      },
      "cell_type": "code",
      "source": [
        "x = 4\n",
        "if x < 1:\n",
        "    score = \"low\"\n",
        "elif x <= 4:\n",
        "    score = \"medium\"\n",
        "else:\n",
        "    score = \"high\"\n",
        "print (score)"
      ],
      "execution_count": 26,
      "outputs": [
        {
          "output_type": "stream",
          "text": [
            "medium\n"
          ],
          "name": "stdout"
        }
      ]
    },
    {
      "metadata": {
        "id": "OEgxqVD0PKgP",
        "colab_type": "code",
        "colab": {
          "base_uri": "https://localhost:8080/",
          "height": 35
        },
        "outputId": "549a3525-8060-475c-c9af-6879a7a64937"
      },
      "cell_type": "code",
      "source": [
        "x = False\n",
        "if x:\n",
        "    print (\"it worked\")\n",
        "else:\n",
        "    print(\"u are failure!\")"
      ],
      "execution_count": 28,
      "outputs": [
        {
          "output_type": "stream",
          "text": [
            "u are failure!\n"
          ],
          "name": "stdout"
        }
      ]
    },
    {
      "metadata": {
        "id": "rFTfP_o1POa-",
        "colab_type": "code",
        "colab": {
          "base_uri": "https://localhost:8080/",
          "height": 69
        },
        "outputId": "e2010091-0ac6-4dce-bfbb-d463def3e66a"
      },
      "cell_type": "code",
      "source": [
        "x = 1\n",
        "for i in range(3):\n",
        "    x += 1\n",
        "    print (\"i={0}, x={1}\".format(i, x))"
      ],
      "execution_count": 29,
      "outputs": [
        {
          "output_type": "stream",
          "text": [
            "i=0, x=2\n",
            "i=1, x=3\n",
            "i=2, x=4\n"
          ],
          "name": "stdout"
        }
      ]
    },
    {
      "metadata": {
        "id": "NxCLorUaQBKK",
        "colab_type": "code",
        "colab": {
          "base_uri": "https://localhost:8080/",
          "height": 69
        },
        "outputId": "9973a702-22e5-45b0-ca85-37fd2015649e"
      },
      "cell_type": "code",
      "source": [
        "x = 1\n",
        "for i in [0, 1, 2]:\n",
        "    x += 1\n",
        "    print (\"i={0}, x={1}\".format(i, x))"
      ],
      "execution_count": 30,
      "outputs": [
        {
          "output_type": "stream",
          "text": [
            "i=0, x=2\n",
            "i=1, x=3\n",
            "i=2, x=4\n"
          ],
          "name": "stdout"
        }
      ]
    },
    {
      "metadata": {
        "id": "1ExJ2gLmQGhE",
        "colab_type": "code",
        "colab": {
          "base_uri": "https://localhost:8080/",
          "height": 69
        },
        "outputId": "33a39ae1-c9a6-461e-f2e2-6420ef658b38"
      },
      "cell_type": "code",
      "source": [
        "x = 3\n",
        "while x > 0:\n",
        "    x -= 1\n",
        "    print (x)"
      ],
      "execution_count": 31,
      "outputs": [
        {
          "output_type": "stream",
          "text": [
            "2\n",
            "1\n",
            "0\n"
          ],
          "name": "stdout"
        }
      ]
    },
    {
      "metadata": {
        "id": "NZxSfICTQYTz",
        "colab_type": "code",
        "colab": {
          "base_uri": "https://localhost:8080/",
          "height": 35
        },
        "outputId": "bf6448fa-d067-48a3-e1fd-66a11f895f9b"
      },
      "cell_type": "code",
      "source": [
        "def join_name(first_name, last_name):\n",
        "    joined_name = first_name + \" \" + last_name\n",
        "    return joined_name\n",
        "\n",
        "first_name = \"Fowjael\"\n",
        "last_name = \"ahamed\"\n",
        "joined_name = join_name(first_name=first_name, last_name=last_name)\n",
        "print (joined_name)"
      ],
      "execution_count": 32,
      "outputs": [
        {
          "output_type": "stream",
          "text": [
            "Fowjael ahamed\n"
          ],
          "name": "stdout"
        }
      ]
    },
    {
      "metadata": {
        "id": "NVq9kx_DQ34b",
        "colab_type": "code",
        "colab": {}
      },
      "cell_type": "code",
      "source": [
        "class Pets(object):\n",
        "  \n",
        "    # Initialize the class\n",
        "    def __init__(self, species, color, name):\n",
        "        self.species = species\n",
        "        self.color = color\n",
        "        self.name = name\n",
        "\n",
        "    # For printing  \n",
        "    def __str__(self):\n",
        "        return \"{0} {1} named {2}.\".format(self.color, self.species, self.name)\n",
        "\n",
        "    # Example function\n",
        "    def change_name(self, new_name):\n",
        "        self.name = new_name"
      ],
      "execution_count": 0,
      "outputs": []
    },
    {
      "metadata": {
        "id": "iRv-69ITSzAQ",
        "colab_type": "code",
        "colab": {
          "base_uri": "https://localhost:8080/",
          "height": 52
        },
        "outputId": "9a268d27-140a-4dbe-e886-83820a890fa2"
      },
      "cell_type": "code",
      "source": [
        "mycat = Pets(species=\"cat\",color=\"white\",name=\"tom\",)\n",
        "print(mycat)\n",
        "mycat.change_name (new_name = \"jerry\")\n",
        "print(mycat)"
      ],
      "execution_count": 47,
      "outputs": [
        {
          "output_type": "stream",
          "text": [
            "white cat named tom.\n",
            "white cat named jerry.\n"
          ],
          "name": "stdout"
        }
      ]
    },
    {
      "metadata": {
        "id": "lNZBK2epTHkx",
        "colab_type": "code",
        "colab": {}
      },
      "cell_type": "code",
      "source": [
        ""
      ],
      "execution_count": 0,
      "outputs": []
    }
  ]
}